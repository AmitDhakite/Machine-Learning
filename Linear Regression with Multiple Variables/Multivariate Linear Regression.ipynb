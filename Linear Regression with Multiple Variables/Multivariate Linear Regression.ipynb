{
 "cells": [
  {
   "cell_type": "code",
   "execution_count": 220,
   "metadata": {},
   "outputs": [],
   "source": [
    "import pandas as pd\n",
    "import numpy as np\n",
    "import matplotlib.pyplot as plt"
   ]
  },
  {
   "cell_type": "code",
   "execution_count": 221,
   "metadata": {},
   "outputs": [],
   "source": [
    "df = pd.read_csv('advertising.csv')"
   ]
  },
  {
   "cell_type": "code",
   "execution_count": 222,
   "metadata": {},
   "outputs": [
    {
     "data": {
      "text/html": [
       "<div>\n",
       "<style scoped>\n",
       "    .dataframe tbody tr th:only-of-type {\n",
       "        vertical-align: middle;\n",
       "    }\n",
       "\n",
       "    .dataframe tbody tr th {\n",
       "        vertical-align: top;\n",
       "    }\n",
       "\n",
       "    .dataframe thead th {\n",
       "        text-align: right;\n",
       "    }\n",
       "</style>\n",
       "<table border=\"1\" class=\"dataframe\">\n",
       "  <thead>\n",
       "    <tr style=\"text-align: right;\">\n",
       "      <th></th>\n",
       "      <th>TV</th>\n",
       "      <th>Radio</th>\n",
       "      <th>Newspaper</th>\n",
       "      <th>Sales</th>\n",
       "    </tr>\n",
       "  </thead>\n",
       "  <tbody>\n",
       "    <tr>\n",
       "      <th>0</th>\n",
       "      <td>230.1</td>\n",
       "      <td>37.8</td>\n",
       "      <td>69.2</td>\n",
       "      <td>22.1</td>\n",
       "    </tr>\n",
       "    <tr>\n",
       "      <th>1</th>\n",
       "      <td>44.5</td>\n",
       "      <td>39.3</td>\n",
       "      <td>45.1</td>\n",
       "      <td>10.4</td>\n",
       "    </tr>\n",
       "    <tr>\n",
       "      <th>2</th>\n",
       "      <td>17.2</td>\n",
       "      <td>45.9</td>\n",
       "      <td>69.3</td>\n",
       "      <td>12.0</td>\n",
       "    </tr>\n",
       "    <tr>\n",
       "      <th>3</th>\n",
       "      <td>151.5</td>\n",
       "      <td>41.3</td>\n",
       "      <td>58.5</td>\n",
       "      <td>16.5</td>\n",
       "    </tr>\n",
       "    <tr>\n",
       "      <th>4</th>\n",
       "      <td>180.8</td>\n",
       "      <td>10.8</td>\n",
       "      <td>58.4</td>\n",
       "      <td>17.9</td>\n",
       "    </tr>\n",
       "  </tbody>\n",
       "</table>\n",
       "</div>"
      ],
      "text/plain": [
       "      TV  Radio  Newspaper  Sales\n",
       "0  230.1   37.8       69.2   22.1\n",
       "1   44.5   39.3       45.1   10.4\n",
       "2   17.2   45.9       69.3   12.0\n",
       "3  151.5   41.3       58.5   16.5\n",
       "4  180.8   10.8       58.4   17.9"
      ]
     },
     "execution_count": 222,
     "metadata": {},
     "output_type": "execute_result"
    }
   ],
   "source": [
    "df.head()"
   ]
  },
  {
   "cell_type": "code",
   "execution_count": 223,
   "metadata": {},
   "outputs": [],
   "source": [
    "m = len(df.axes[0]) # 198\n",
    "n = len(df.axes[1]) # 4     (x_0 = 1, x_1, x_2, x_3)\n",
    "\n",
    "# Converting dataframe to numpy array\n",
    "x_0 = np.ones([m, 1])\n",
    "features = df.drop('Sales', axis=1)\n",
    "features_array = features.to_numpy()\n",
    "\n",
    "x = np.concatenate((x_0, features_array), axis = 1)\n",
    "y = (df['Sales']).to_numpy()\n",
    "theta = np.zeros((n, 1))\n",
    "alpha = 0.000065"
   ]
  },
  {
   "cell_type": "code",
   "execution_count": 224,
   "metadata": {},
   "outputs": [],
   "source": [
    "# Feature Scaling\n",
    "def feature_scaling(x):\n",
    "    x_max = x.max(0)        #[  1.  296.4  49.6 114. ]\n",
    "    x = (x / x_max)\n",
    "    return x"
   ]
  },
  {
   "cell_type": "code",
   "execution_count": 225,
   "metadata": {},
   "outputs": [],
   "source": [
    "def hypothesis(theta, x):    \n",
    "    return np.dot(np.transpose(theta), x)"
   ]
  },
  {
   "cell_type": "code",
   "execution_count": 226,
   "metadata": {},
   "outputs": [],
   "source": [
    "def cost(theta, x, y, m):\n",
    "    cur_cost = 0\n",
    "    for i in range(m):\n",
    "        cur_x = x[i]\n",
    "        hypo = hypothesis(theta, cur_x)\n",
    "        diff = hypo - y[i]\n",
    "        cur_cost += (diff * diff)\n",
    "    return cur_cost / (2 * m)\n",
    "        "
   ]
  },
  {
   "cell_type": "code",
   "execution_count": 227,
   "metadata": {},
   "outputs": [],
   "source": [
    "def gradient_descent(theta, x, y, n, m, alpha):\n",
    "\n",
    "    costs = []\n",
    "    thetas = [theta]\n",
    "\n",
    "    for i in range(1000):\n",
    "        new_theta = np.zeros((n, 1))\n",
    "        \n",
    "        for j in range(n):\n",
    "            cur_sum = 0\n",
    "            \n",
    "            for k in range(m):\n",
    "                dif = hypothesis(theta, x[k]) - y[k]\n",
    "                cur_sum += dif * x[k][j]\n",
    "                \n",
    "            cur_sum = alpha * cur_sum / m\n",
    "            new_theta[j] = theta[j] - cur_sum\n",
    "        \n",
    "        theta = new_theta\n",
    "        thetas.append(theta)\n",
    "        cur_cost = cost(theta, x, y, m)\n",
    "        costs.append(cur_cost)\n",
    "\n",
    "    return [theta, thetas, costs]\n",
    "\n"
   ]
  },
  {
   "cell_type": "code",
   "execution_count": 228,
   "metadata": {},
   "outputs": [],
   "source": [
    "[computed_theta, thetas, costs] = gradient_descent(theta, x, y, n, m, 0.000066)"
   ]
  },
  {
   "cell_type": "code",
   "execution_count": 229,
   "metadata": {},
   "outputs": [
    {
     "data": {
      "text/plain": [
       "Text(0, 0.5, 'Iterations')"
      ]
     },
     "execution_count": 229,
     "metadata": {},
     "output_type": "execute_result"
    },
    {
     "data": {
      "image/png": "[encoded data removed]",
      "text/plain": [
       "<Figure size 432x288 with 1 Axes>"
      ]
     },
     "metadata": {
      "needs_background": "light"
     },
     "output_type": "display_data"
    }
   ],
   "source": [
    "plt.plot(costs)\n",
    "plt.xlabel(\"Costs\")\n",
    "plt.ylabel(\"Iterations\")"
   ]
  },
  {
   "cell_type": "code",
   "execution_count": 230,
   "metadata": {},
   "outputs": [
    {
     "name": "stdout",
     "output_type": "stream",
     "text": [
      "Model's ans:  [17.16955017]  Correct ans: 18.4\n",
      "Model's ans:  [8.01770994]  Correct ans: 7.3\n"
     ]
    }
   ],
   "source": [
    "# Testing Data1: 232.1,8.6,8.7,18.4\n",
    "# Testing Data2: 11.7,36.9,45.2,7.3\n",
    "test_x_1 = [1,232.1,8.6,8.7]\n",
    "test_x_2 = [1,11.7,36.9,45.2]\n",
    "print(\"Model's ans: \", hypothesis(computed_theta, test_x_1), \" Correct ans: 18.4\")\n",
    "print(\"Model's ans: \", hypothesis(computed_theta, test_x_2), \" Correct ans: 7.3\")"
   ]
  },
  {
   "cell_type": "code",
   "execution_count": null,
   "metadata": {},
   "outputs": [],
   "source": []
  }
 ],
 "metadata": {
  "kernelspec": {
   "display_name": "Python 3",
   "language": "python",
   "name": "python3"
  },
  "language_info": {
   "codemirror_mode": {
    "name": "ipython",
    "version": 3
   },
   "file_extension": ".py",
   "mimetype": "text/x-python",
   "name": "python",
   "nbconvert_exporter": "python",
   "pygments_lexer": "ipython3",
   "version": "3.10.2"
  },
  "orig_nbformat": 4,
  "vscode": {
   "interpreter": {
    "hash": "d3e10ef16274dd72e574b8fa73b58450b957d8421a2901baded3cca26fcf5dda"
   }
  }
 },
 "nbformat": 4,
 "nbformat_minor": 2
}
